{
 "cells": [
  {
   "cell_type": "code",
   "execution_count": null,
   "metadata": {},
   "outputs": [
    {
     "name": "stdout",
     "output_type": "stream",
     "text": [
      "Sun Jan 19 22:34:47 2025       \n",
      "+-----------------------------------------------------------------------------+\n",
      "| NVIDIA-SMI 515.105.01   Driver Version: 515.105.01   CUDA Version: 11.7     |\n",
      "|-------------------------------+----------------------+----------------------+\n",
      "| GPU  Name        Persistence-M| Bus-Id        Disp.A | Volatile Uncorr. ECC |\n",
      "| Fan  Temp  Perf  Pwr:Usage/Cap|         Memory-Usage | GPU-Util  Compute M. |\n",
      "|                               |                      |               MIG M. |\n",
      "|===============================+======================+======================|\n",
      "|   0  NVIDIA TITAN RTX    On   | 00000000:AF:00.0 Off |                  N/A |\n",
      "| 41%   27C    P8    15W / 280W |      3MiB / 24576MiB |      0%      Default |\n",
      "|                               |                      |                  N/A |\n",
      "+-------------------------------+----------------------+----------------------+\n",
      "                                                                               \n",
      "+-----------------------------------------------------------------------------+\n",
      "| Processes:                                                                  |\n",
      "|  GPU   GI   CI        PID   Type   Process name                  GPU Memory |\n",
      "|        ID   ID                                                   Usage      |\n",
      "|=============================================================================|\n",
      "|  No running processes found                                                 |\n",
      "+-----------------------------------------------------------------------------+\n"
     ]
    }
   ],
   "source": [
    "# Estado de la gpu\n",
    "\n",
    "!nvidia-smi # Hera"
   ]
  },
  {
   "cell_type": "code",
   "execution_count": 2,
   "metadata": {},
   "outputs": [],
   "source": [
    "# Instalacion de librerias necesarias para las pruebas\n",
    "\n",
    "# !pip install pandas scikit-learn numpy xgboost"
   ]
  },
  {
   "cell_type": "code",
   "execution_count": 3,
   "metadata": {},
   "outputs": [
    {
     "name": "stdout",
     "output_type": "stream",
     "text": [
      "Accuracy: 0.8361\n"
     ]
    }
   ],
   "source": [
    "# Librerías\n",
    "import xgboost as xgb\n",
    "import numpy as np\n",
    "import pandas as pd\n",
    "from sklearn.model_selection import train_test_split\n",
    "from sklearn.datasets import load_svmlight_file\n",
    "from sklearn.metrics import accuracy_score\n",
    "\n",
    "# Leemos los datos en formato svmlight\n",
    "X, y = load_svmlight_file('/mnt/homeGPU/joman/TFM-Paralelizacion/data/raw/epsilon_normalized_t') # 1 GPU solo tiene capacidad para almacenar datos de test\n",
    "\n",
    "# Convertimos las etiquetas a 0 y 1\n",
    "y = (y + 1) // 2\n",
    "\n",
    "# Dividimos en entenamiento y test\n",
    "X_train, X_test, y_train, y_test = train_test_split(X, y, test_size=0.2, random_state=42)\n",
    "\n",
    "# OConvertimos a formato Dmatrix\n",
    "dtrain = xgb.DMatrix(X_train, label=y_train)\n",
    "dtest = xgb.DMatrix(X_test, label=y_test)\n",
    "\n",
    "# Parámetros para el entrenamiento\n",
    "params = {\n",
    "    'objective': 'binary:logistic',   # Clasificacion binaria\n",
    "    'max_depth': 6,                    # Profundidad\n",
    "    'learning_rate': 0.1,              \n",
    "    'eval_metric': 'logloss',          # Función objetivo\n",
    "    'tree_method': 'hist',         \n",
    "    'device': 'cuda'                  # Activamos CUDA\n",
    "}\n",
    "\n",
    "num_round = 100  # Número de boostings\n",
    "bst = xgb.train(params, dtrain, num_round)\n",
    "\n",
    "# Predicciones\n",
    "y_pred = bst.predict(dtest)\n",
    "y_pred_binary = (y_pred > 0.5).astype(int)  # Convertimos a 0 y 1\n",
    "\n",
    "# Mostramos la exactitud del modelo\n",
    "accuracy = accuracy_score(y_test, y_pred_binary)\n",
    "print(f\"Accuracy: {accuracy:.4f}\")"
   ]
  }
 ],
 "metadata": {
  "kernelspec": {
   "display_name": "Python 3 (ipykernel)",
   "language": "python",
   "name": "python3"
  },
  "language_info": {
   "codemirror_mode": {
    "name": "ipython",
    "version": 3
   },
   "file_extension": ".py",
   "mimetype": "text/x-python",
   "name": "python",
   "nbconvert_exporter": "python",
   "pygments_lexer": "ipython3",
   "version": "3.13.1"
  }
 },
 "nbformat": 4,
 "nbformat_minor": 2
}
