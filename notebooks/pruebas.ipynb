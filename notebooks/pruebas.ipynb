{
 "cells": [
  {
   "cell_type": "code",
   "execution_count": 1,
   "metadata": {},
   "outputs": [
    {
     "name": "stdout",
     "output_type": "stream",
     "text": [
      "/bin/bash: nvidia-smi: command not found\n"
     ]
    }
   ],
   "source": [
    "!nvidia-smi"
   ]
  },
  {
   "cell_type": "code",
   "execution_count": 2,
   "metadata": {},
   "outputs": [
    {
     "name": "stdout",
     "output_type": "stream",
     "text": [
      "Collecting xgboost\n",
      "  Using cached xgboost-2.1.3-py3-none-manylinux2014_x86_64.whl.metadata (2.0 kB)\n",
      "Requirement already satisfied: numpy in ./.venv/lib/python3.10/site-packages (from xgboost) (2.2.2)\n",
      "Requirement already satisfied: scipy in ./.venv/lib/python3.10/site-packages (from xgboost) (1.15.1)\n",
      "Using cached xgboost-2.1.3-py3-none-manylinux2014_x86_64.whl (4.5 MB)\n",
      "Installing collected packages: xgboost\n",
      "Successfully installed xgboost-2.1.3\n"
     ]
    }
   ],
   "source": [
    "!pip install xgboost"
   ]
  },
  {
   "cell_type": "code",
   "execution_count": null,
   "metadata": {},
   "outputs": [
    {
     "name": "stderr",
     "output_type": "stream",
     "text": [
      "/mnt/homeGPU/joman/.venv/lib/python3.10/site-packages/xgboost/core.py:265: FutureWarning: Your system has an old version of glibc (< 2.28). We will stop supporting Linux distros with glibc older than 2.28 after **May 31, 2025**. Please upgrade to a recent Linux distro (with glibc 2.28+) to use future versions of XGBoost.\n",
      "Note: You have installed the 'manylinux2014' variant of XGBoost. Certain features such as GPU algorithms or federated learning are not available. To use these features, please upgrade to a recent Linux distro with glibc 2.28+, and install the 'manylinux_2_28' variant.\n",
      "  warnings.warn(\n"
     ]
    }
   ],
   "source": [
    "# Import necessary libraries\n",
    "import xgboost as xgb\n",
    "import numpy as np\n",
    "import pandas as pd\n",
    "from sklearn.model_selection import train_test_split\n",
    "from sklearn.datasets import load_svmlight_file\n",
    "from sklearn.metrics import accuracy_score\n",
    "\n",
    "# Load dataset (example: breast cancer dataset)\n",
    "X, y = load_svmlight_file('/mnt/homeGPU/joman/TFM-Paralelizacion/data/raw/epsilon_normalized')\n",
    "\n",
    "# Split data into training and testing sets\n",
    "X_train, X_test, y_train, y_test = train_test_split(X, y, test_size=0.2, random_state=42)\n",
    "\n",
    "# Convert datasets to DMatrix (optimized format for XGBoost)\n",
    "dtrain = xgb.DMatrix(X_train, label=y_train)\n",
    "dtest = xgb.DMatrix(X_test, label=y_test)\n",
    "\n",
    "# Set parameters for GPU training\n",
    "params = {\n",
    "    'objective': 'binary:logistic',   # Binary classification\n",
    "    'max_depth': 6,                    # Max depth of tree\n",
    "    'learning_rate': 0.1,              # Step size\n",
    "    'eval_metric': 'logloss',          # Evaluation metric\n",
    "    'tree_method': 'gpu_hist',         # Use GPU-accelerated histogram-based algorithm\n",
    "    'device': 'cuda'                  # Enable CUDA for GPU acceleration\n",
    "          # Use GPU for prediction as well\n",
    "}\n",
    "\n",
    "\n",
    "# Training the model with GPU acceleration\n",
    "num_round = 100  # Number of boosting rounds\n",
    "bst = xgb.train(params, dtrain, num_round)\n",
    "\n",
    "# Making predictions on the test set\n",
    "y_pred = bst.predict(dtest)\n",
    "y_pred_binary = (y_pred > 0.5).astype(int)  # Convert to binary classification\n",
    "\n",
    "# Calculate accuracy\n",
    "accuracy = accuracy_score(y_test, y_pred_binary)\n",
    "print(f\"Accuracy: {accuracy:.4f}\")"
   ]
  },
  {
   "cell_type": "code",
   "execution_count": 1,
   "metadata": {},
   "outputs": [
    {
     "name": "stdout",
     "output_type": "stream",
     "text": [
      "1.7.5\n"
     ]
    }
   ],
   "source": [
    "import xgboost as xgb\n",
    "print(xgb.__version__)\n"
   ]
  }
 ],
 "metadata": {
  "kernelspec": {
   "display_name": "Python 3",
   "language": "python",
   "name": "python3"
  },
  "language_info": {
   "codemirror_mode": {
    "name": "ipython",
    "version": 3
   },
   "file_extension": ".py",
   "mimetype": "text/x-python",
   "name": "python",
   "nbconvert_exporter": "python",
   "pygments_lexer": "ipython3",
   "version": "3.10.12"
  }
 },
 "nbformat": 4,
 "nbformat_minor": 2
}
